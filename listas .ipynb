{
 "cells": [
  {
   "cell_type": "markdown",
   "metadata": {},
   "source": [
    "# listas en python\n",
    "## ejercicio 1: crear una lista de 5 elementos y mostrarla por pantalla "
   ]
  },
  {
   "cell_type": "code",
   "execution_count": 23,
   "metadata": {},
   "outputs": [
    {
     "name": "stdout",
     "output_type": "stream",
     "text": [
      "['lapiz', 'cuaderno', 'borrador', 'libros', 500]\n"
     ]
    }
   ],
   "source": [
    "pedro = [\"lapiz\",\"cuaderno\",\"borrador\",\"libros\",500]\n",
    "print(pedro)"
   ]
  },
  {
   "cell_type": "markdown",
   "metadata": {},
   "source": [
    "## ejercico 2 = muestra la cantidad de elementos de la lista creada previamente"
   ]
  },
  {
   "cell_type": "code",
   "execution_count": 24,
   "metadata": {},
   "outputs": [
    {
     "data": {
      "text/plain": [
       "5"
      ]
     },
     "execution_count": 24,
     "metadata": {},
     "output_type": "execute_result"
    }
   ],
   "source": [
    "len(pedro)"
   ]
  },
  {
   "cell_type": "markdown",
   "metadata": {},
   "source": [
    "## ejercicio 3 = mostrar los elementos 0, 2 y 4"
   ]
  },
  {
   "cell_type": "code",
   "execution_count": 25,
   "metadata": {},
   "outputs": [
    {
     "name": "stdout",
     "output_type": "stream",
     "text": [
      "el elemento 0 es: lapiz\n",
      "el elemento 2 es: borrador\n",
      "el elemento 4 es: 500\n"
     ]
    }
   ],
   "source": [
    "print(f\"el elemento 0 es: {pedro[0]}\")\n",
    "print(f\"el elemento 2 es: {pedro[2]}\")\n",
    "print(f\"el elemento 4 es: {pedro[4]}\")"
   ]
  },
  {
   "cell_type": "markdown",
   "metadata": {},
   "source": [
    "\n",
    "## ejercicio 4 = agrega un elemento a la lista pedro y muestra el ultimo elemento"
   ]
  },
  {
   "cell_type": "code",
   "execution_count": 26,
   "metadata": {},
   "outputs": [
    {
     "name": "stdout",
     "output_type": "stream",
     "text": [
      "el ultimo elemento de la lista es pluma\n"
     ]
    }
   ],
   "source": [
    "pedro.append(\"pluma\")\n",
    "print(f\"el ultimo elemento de la lista es {pedro[-1]}\")"
   ]
  },
  {
   "cell_type": "markdown",
   "metadata": {},
   "source": [
    "## ejercicio 5 = cambia el elemento numero 2 de la lista pedro por manzanas, e imprima la lista completa "
   ]
  },
  {
   "cell_type": "code",
   "execution_count": 27,
   "metadata": {},
   "outputs": [
    {
     "name": "stdout",
     "output_type": "stream",
     "text": [
      "el elemento 1 era cuaderno y ahora es manzana \n",
      "la lista ahora es: ['lapiz', 'manzana', 'borrador', 'libros', 500, 'pluma']\n"
     ]
    }
   ],
   "source": [
    "a = pedro[1]\n",
    "pedro[1] = \"manzana\"\n",
    "print(f\"el elemento 1 era {a} y ahora es {pedro[1]} \\nla lista ahora es: {pedro}\")"
   ]
  },
  {
   "cell_type": "markdown",
   "metadata": {},
   "source": [
    "## Tarea 1\n",
    "crear una lista de los numeros del 1 al 10\n"
   ]
  },
  {
   "cell_type": "code",
   "execution_count": 28,
   "metadata": {},
   "outputs": [
    {
     "name": "stdout",
     "output_type": "stream",
     "text": [
      "[1, 2, 3, 4, 5, 6, 7, 8, 9, 10]\n"
     ]
    }
   ],
   "source": [
    "numeros = [1,2,3,4,5,6,7,8,9,10]\n",
    "print (numeros)"
   ]
  },
  {
   "cell_type": "markdown",
   "metadata": {},
   "source": [
    "## Tarea 2\n",
    "duplicar los elementos de la lista numeros y agregarlos al final de la lista "
   ]
  },
  {
   "cell_type": "code",
   "execution_count": 29,
   "metadata": {},
   "outputs": [
    {
     "name": "stdout",
     "output_type": "stream",
     "text": [
      "[1, 2, 3, 4, 5, 6, 7, 8, 9, 10, 2, 4, 6, 8, 10, 12, 14, 16, 18, 20]\n"
     ]
    }
   ],
   "source": [
    "numeros.append(numeros[0] * 2)\n",
    "numeros.append(numeros[1] * 2)\n",
    "numeros.append(numeros[2] * 2)\n",
    "numeros.append(numeros[3] * 2)\n",
    "numeros.append(numeros[4] * 2)\n",
    "numeros.append(numeros[5] * 2)\n",
    "numeros.append(numeros[6] * 2)\n",
    "numeros.append(numeros[7] * 2)\n",
    "numeros.append(numeros[8] * 2)\n",
    "numeros.append(numeros[9] * 2)\n",
    "print(numeros)"
   ]
  },
  {
   "cell_type": "markdown",
   "metadata": {},
   "source": [
    "## ejercicio 6 : elimina elementos de la lista numeros"
   ]
  },
  {
   "cell_type": "code",
   "execution_count": 30,
   "metadata": {},
   "outputs": [
    {
     "name": "stdout",
     "output_type": "stream",
     "text": [
      "[1, 3, 4, 5, 6, 7, 8, 9, 10, 2, 4, 6, 8, 10, 12, 14, 16, 18, 20]\n"
     ]
    }
   ],
   "source": [
    "# eliminar un valor de la lista, eliminar el 2\n",
    "numeros.remove(2)\n",
    "print(numeros)"
   ]
  },
  {
   "cell_type": "code",
   "execution_count": 31,
   "metadata": {},
   "outputs": [
    {
     "name": "stdout",
     "output_type": "stream",
     "text": [
      "[1, 3, 4, 6, 7, 8, 9, 10, 2, 4, 6, 8, 10, 12, 14, 16, 18, 20]\n"
     ]
    }
   ],
   "source": [
    "# eliminar el valor de la posicion 3\n",
    "numeros.pop(3)\n",
    "print(numeros)"
   ]
  },
  {
   "cell_type": "code",
   "execution_count": 32,
   "metadata": {},
   "outputs": [
    {
     "name": "stdout",
     "output_type": "stream",
     "text": [
      "[1, 3, 4, 6, 7, 8, 9, 10, 2, 4, 6, 8, 10, 12, 14, 16, 18]\n"
     ]
    }
   ],
   "source": [
    "# eliminar el ultimo valor de la lista, sin usar el metodo pop\n",
    "numeros = numeros[:-1]\n",
    "print(numeros)"
   ]
  },
  {
   "cell_type": "code",
   "execution_count": 34,
   "metadata": {},
   "outputs": [
    {
     "name": "stdout",
     "output_type": "stream",
     "text": [
      "la lista numeros contiene: []\n",
      "la lista pedro contiene: []\n"
     ]
    }
   ],
   "source": [
    "# vaciar las listas numeros y pedro\n",
    "numeros.clear()\n",
    "pedro.clear()\n",
    "print(f\"la lista numeros contiene: {numeros}\")\n",
    "print(f\"la lista pedro contiene: { pedro}\")"
   ]
  }
 ],
 "metadata": {
  "kernelspec": {
   "display_name": "Python 3",
   "language": "python",
   "name": "python3"
  },
  "language_info": {
   "codemirror_mode": {
    "name": "ipython",
    "version": 3
   },
   "file_extension": ".py",
   "mimetype": "text/x-python",
   "name": "python",
   "nbconvert_exporter": "python",
   "pygments_lexer": "ipython3",
   "version": "3.13.2"
  }
 },
 "nbformat": 4,
 "nbformat_minor": 2
}
